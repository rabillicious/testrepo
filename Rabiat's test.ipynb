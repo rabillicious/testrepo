{
 "cells": [
  {
   "cell_type": "markdown",
   "id": "72db23df-29ca-4419-b4fe-8b13e3e41fae",
   "metadata": {},
   "source": [
    "My Notebook"
   ]
  },
  {
   "cell_type": "markdown",
   "id": "36c10018-7502-4262-b027-59057f6ec9c2",
   "metadata": {},
   "source": [
    "Introduction to my notebook"
   ]
  },
  {
   "cell_type": "markdown",
   "id": "f29dd5c9-c6c1-46d1-9674-98b616e43d8f",
   "metadata": {},
   "source": [
    "list of Data science languages\n",
    "Python\n",
    "R\n",
    "Julia\n",
    "SQL\n",
    "Javascript\n",
    "Scala"
   ]
  },
  {
   "cell_type": "markdown",
   "id": "4a16f257-1bdf-4c6f-8a19-5d9739209c50",
   "metadata": {},
   "source": [
    "List of data science libraries\n",
    "Numpy\n",
    "pytorch\n",
    "Keras\n",
    "Scikit-Learn\n",
    "Tensorflow\n",
    "seaborn\n",
    "pillow"
   ]
  },
  {
   "cell_type": "markdown",
   "id": "3d4bd3a1-9995-4c68-abfe-42c5cb14d886",
   "metadata": {},
   "source": [
    "Data science tools\n",
    "|tools|tools|\n",
    "|-----|-----|\n",
    "|jupiter|R studio|\n",
    "|Apache Spark|MySQL|\n",
    "|python|SPSS|"
   ]
  },
  {
   "cell_type": "markdown",
   "id": "f874404c-411e-4b6b-90d3-63887bcb833c",
   "metadata": {},
   "source": [
    "Examples of Arithmetic expression"
   ]
  },
  {
   "cell_type": "code",
   "execution_count": 2,
   "id": "1d3eff17-d7d4-4b60-8b6d-ca2d89142047",
   "metadata": {},
   "outputs": [
    {
     "data": {
      "text/plain": [
       "4"
      ]
     },
     "execution_count": 2,
     "metadata": {},
     "output_type": "execute_result"
    }
   ],
   "source": [
    "2+2"
   ]
  },
  {
   "cell_type": "code",
   "execution_count": 3,
   "id": "a3a79547-8914-4874-bf00-327368dce68f",
   "metadata": {},
   "outputs": [
    {
     "data": {
      "text/plain": [
       "4"
      ]
     },
     "execution_count": 3,
     "metadata": {},
     "output_type": "execute_result"
    }
   ],
   "source": [
    "2*2"
   ]
  },
  {
   "cell_type": "code",
   "execution_count": 5,
   "id": "2b4eba4d-0bd8-45c9-96ca-506bacd8cf06",
   "metadata": {},
   "outputs": [],
   "source": [
    "minutes= 380\n",
    "hrs= int(minutes/60)\n",
    "remaining = minutes % 60\n"
   ]
  },
  {
   "cell_type": "markdown",
   "id": "e4bdba4a-e10c-4d51-b7bb-907e0a8e8fda",
   "metadata": {},
   "source": [
    "Objectives\n",
    "1.Learn the techniques of data science\n",
    "2.How to apply data science to businesses\n",
    "3. Solving problems with data science"
   ]
  },
  {
   "cell_type": "markdown",
   "id": "aa9f6db2-7f8d-4b2f-9765-b4e83cbf48a7",
   "metadata": {},
   "source": [
    "Author\n",
    "Rabiat Sanni"
   ]
  },
  {
   "cell_type": "code",
   "execution_count": null,
   "id": "0543e380-6315-4fbf-b645-49ae25a683f0",
   "metadata": {},
   "outputs": [],
   "source": []
  }
 ],
 "metadata": {
  "kernelspec": {
   "display_name": "Python",
   "language": "python",
   "name": "conda-env-python-py"
  },
  "language_info": {
   "codemirror_mode": {
    "name": "ipython",
    "version": 3
   },
   "file_extension": ".py",
   "mimetype": "text/x-python",
   "name": "python",
   "nbconvert_exporter": "python",
   "pygments_lexer": "ipython3",
   "version": "3.7.12"
  }
 },
 "nbformat": 4,
 "nbformat_minor": 5
}
